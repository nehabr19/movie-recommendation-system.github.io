{
 "cells": [
  {
   "cell_type": "code",
   "execution_count": 2,
   "id": "15ba4591",
   "metadata": {},
   "outputs": [
    {
     "name": "stdout",
     "output_type": "stream",
     "text": [
      "Enter movie name: parasite\n",
      "Director:  Bong Joon Ho\n",
      "Movies you may like: \n",
      "Snowpiercer\n",
      "https://www.imdb.com/title/tt1706620/?ref_=nm_knf_t_1\n",
      "Okja\n",
      "https://www.imdb.com/title/tt3967856/?ref_=nm_knf_t_2\n",
      "Parasite\n",
      "https://www.imdb.com/title/tt6751668/?ref_=nm_knf_t_3\n",
      "Salinui Chueok\n",
      "https://www.imdb.com/title/tt0353969/?ref_=nm_knf_t_4\n"
     ]
    }
   ],
   "source": [
    "import requests\n",
    "from bs4 import BeautifulSoup\n",
    "\n",
    "url = 'https://www.imdb.com/chart/top'\n",
    "headers = {\n",
    "    'User-Agent': 'Mozilla/5.0 (Windows NT 10.0; Win64; x64) AppleWebKit/537.36 (KHTML, like Gecko) Chrome/96.0.4664.110 Safari/537.36'\n",
    "}\n",
    "\n",
    "user_movie_name = input(\"Enter movie name: \").lower()  # Convert input to lowercase\n",
    "\n",
    "res = requests.get(url, headers=headers)\n",
    "html = res.text\n",
    "\n",
    "soup = BeautifulSoup(html, 'html.parser')\n",
    "\n",
    "movie_found = False  # Flag to track whether any movie matches the input name\n",
    "\n",
    "for tag in soup.findAll('a', {'class': 'ipc-title-link-wrapper'}):\n",
    "    movie_link = tag.text.strip().lower()  # Convert movie name to lowercase\n",
    "    movie_name = movie_link.split('. ')[-1]  # Split by '.' and take the second part\n",
    "    if movie_name == user_movie_name:\n",
    "        movie_id = tag['href']\n",
    "        movie_url = f'https://www.imdb.com{movie_id}'\n",
    "        #print(movie_url)\n",
    "        movie_found = True  # Set flag to True since movie is found\n",
    "        break\n",
    "\n",
    "url2=movie_url\n",
    "res2 = requests.get(url2, headers=headers)\n",
    "html2 = res2.text\n",
    "soup2 = BeautifulSoup(html2, 'html.parser')\n",
    "\n",
    "\n",
    "#Here we get the director url \n",
    "for tag in soup2.findAll('a',{'class':'ipc-metadata-list-item__list-content-item ipc-metadata-list-item__list-content-item--link'}):\n",
    "    #print(tag.text.strip())\n",
    "    director=tag.text.strip()\n",
    "    id=tag['href']\n",
    "    dir_url=f'https://www.imdb.com{id}'\n",
    "    #print(dir_url)\n",
    "    break\n",
    "\n",
    "url3=dir_url\n",
    "res3 = requests.get(url3, headers=headers)\n",
    "html3 = res3.text\n",
    "soup3 = BeautifulSoup(html3, 'html.parser')\n",
    "\n",
    "print(\"Director: \",director)\n",
    "\n",
    "#Here we get the similar movies which are directed by the same director\n",
    "print(\"Movies you may like: \")\n",
    "for tag in soup3.findAll('a',{'class':'ipc-primary-image-list-card__title'}):\n",
    "    m_url1=tag['href']\n",
    "    m_url=f'https://www.imdb.com{m_url1}'\n",
    "    print(tag.text.strip())\n",
    "    print(m_url)\n",
    "\n",
    "\n",
    "\n",
    "if not movie_found:\n",
    "    print(\"Movie not present in top 250.\")\n",
    "\n",
    "    "
   ]
  },
  {
   "cell_type": "code",
   "execution_count": null,
   "id": "9c797bd2",
   "metadata": {},
   "outputs": [],
   "source": []
  }
 ],
 "metadata": {
  "kernelspec": {
   "display_name": "Python 3 (ipykernel)",
   "language": "python",
   "name": "python3"
  },
  "language_info": {
   "codemirror_mode": {
    "name": "ipython",
    "version": 3
   },
   "file_extension": ".py",
   "mimetype": "text/x-python",
   "name": "python",
   "nbconvert_exporter": "python",
   "pygments_lexer": "ipython3",
   "version": "3.11.4"
  }
 },
 "nbformat": 4,
 "nbformat_minor": 5
}
